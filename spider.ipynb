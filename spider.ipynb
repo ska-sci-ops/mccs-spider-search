{
 "cells": [
  {
   "cell_type": "code",
   "execution_count": 8,
   "id": "9e2cbe00-e902-47ab-9f83-37884ddde208",
   "metadata": {
    "execution": {
     "iopub.execute_input": "2024-11-08T08:03:08.027309Z",
     "iopub.status.busy": "2024-11-08T08:03:08.026519Z",
     "iopub.status.idle": "2024-11-08T08:03:08.032024Z",
     "shell.execute_reply": "2024-11-08T08:03:08.031127Z",
     "shell.execute_reply.started": "2024-11-08T08:03:08.027278Z"
    }
   },
   "outputs": [],
   "source": [
    "import os\n",
    "import glob\n",
    "import pandas as pd\n",
    "import tqdm\n",
    "import numpy as np\n",
    "from astropy.time import Time\n",
    "from astropy.coordinates import EarthLocation\n",
    "import h5py\n",
    "import yaml\n",
    "from dataclasses import dataclass\n",
    "import pylab as plt"
   ]
  },
  {
   "cell_type": "code",
   "execution_count": 9,
   "id": "706bfbbf-5539-4b61-8513-d7da1e3cfd99",
   "metadata": {
    "execution": {
     "iopub.execute_input": "2024-11-08T08:03:08.945881Z",
     "iopub.status.busy": "2024-11-08T08:03:08.945018Z",
     "iopub.status.idle": "2024-11-08T08:03:08.951932Z",
     "shell.execute_reply": "2024-11-08T08:03:08.951191Z",
     "shell.execute_reply.started": "2024-11-08T08:03:08.945849Z"
    }
   },
   "outputs": [],
   "source": [
    "dpath = \"/home/jovyan/daq-data\"\n",
    "\n",
    "obslist = sorted(glob.glob(f\"{dpath}/eb-t*\"))"
   ]
  },
  {
   "cell_type": "code",
   "execution_count": 10,
   "id": "3658ba77-3f72-4a15-b6ad-524d37573d4a",
   "metadata": {
    "execution": {
     "iopub.execute_input": "2024-11-08T08:03:09.856889Z",
     "iopub.status.busy": "2024-11-08T08:03:09.856315Z",
     "iopub.status.idle": "2024-11-08T08:03:09.861750Z",
     "shell.execute_reply": "2024-11-08T08:03:09.860871Z",
     "shell.execute_reply.started": "2024-11-08T08:03:09.856858Z"
    }
   },
   "outputs": [],
   "source": [
    "eloc = EarthLocation(x=-2561290.83467119, y=5085918.51537833, z=-2864050.87177975, unit='m')"
   ]
  },
  {
   "cell_type": "code",
   "execution_count": 11,
   "id": "fd449067-0f80-4a2b-bb9d-cc144d8c95bb",
   "metadata": {
    "execution": {
     "iopub.execute_input": "2024-11-08T08:03:10.336846Z",
     "iopub.status.busy": "2024-11-08T08:03:10.336025Z",
     "iopub.status.idle": "2024-11-08T08:03:10.346847Z",
     "shell.execute_reply": "2024-11-08T08:03:10.345920Z",
     "shell.execute_reply.started": "2024-11-08T08:03:10.336815Z"
    }
   },
   "outputs": [],
   "source": [
    "# Define a dataclass to store metadata in\n",
    "@dataclass\n",
    "class ObservationMetadata:\n",
    "    \"\"\" Simple dataclass to store observation metadata \"\"\"\n",
    "    obs_id: str\n",
    "    station: str=''\t\n",
    "    mode: str=''\n",
    "    sub_mode: str=''\t\n",
    "    intent: str=''\t\n",
    "    notes: str=''\t\n",
    "    observer: str=''\t\n",
    "    reference: str=''\t\n",
    "    utc_start: str=''\t\n",
    "    obs_duration: str='' \t\n",
    "    loop_duration: str=''\n",
    "    loop_rest_interval: str=''\t\n",
    "    lst_start: float=''\n",
    "    start_channel: int=''\t\n",
    "    n_channel: int=''\t\n",
    "    start_frequency: float=''\t\n",
    "    obs_bandwidth: float=''\t\n",
    "    samples_per_frame: int=''\t\n",
    "    time_resolution: float=''\t\n",
    "    n_timesteps: int=''\t\n",
    "    tracking: str=''\t\n",
    "    source_name: str=''\t\n",
    "    right_ascension: str=''\t\n",
    "    declination: str=''\t\n",
    "    altitude: float=''\t\n",
    "    azimuth: float=''\t\n",
    "    obs_date: str=''\t\n",
    "    n_files: int=0\t\n",
    "    size_mb: float=0.0\t\n",
    "    qa: str=''\n",
    "\n",
    "# Convert HDF5 name to a mode and submode\n",
    "obs_types = {\n",
    "    'stationbeam_integ': ['beamformer', 'power'],\n",
    "    'channel_burst': ['channel-voltages', 'sweep'],\n",
    "    'channel_integ': ['antenna-bandpass', ' '],\n",
    "    'correlation_burst': ['correlator', 'sweep'], # NOTE: Could be fixed submode too\n",
    "    'raw_burst': ['adc-samples', 'synchronous'],  # NOTE: Could be asynchronous submode too\n",
    "}"
   ]
  },
  {
   "cell_type": "code",
   "execution_count": 26,
   "id": "e32f1bf0-eb3e-498b-b26c-c49a708c37b4",
   "metadata": {
    "execution": {
     "iopub.execute_input": "2024-11-08T08:10:25.609161Z",
     "iopub.status.busy": "2024-11-08T08:10:25.608102Z",
     "iopub.status.idle": "2024-11-08T08:10:25.631414Z",
     "shell.execute_reply": "2024-11-08T08:10:25.630582Z",
     "shell.execute_reply.started": "2024-11-08T08:10:25.609108Z"
    }
   },
   "outputs": [],
   "source": [
    "def get_md_corr(filelist: list, obs_md: ObservationMetadata) -> ObservationMetadata:\n",
    "    \"\"\" Get correlator metadata from filelist. \"\"\"\n",
    "    \n",
    "    bl = [os.path.basename(f) for f in sorted(filelist)]\n",
    "    dirname = os.path.dirname(filelist[0])\n",
    "    \n",
    "    chan_ids, tsteps = [], []\n",
    "    modestr1_0, modestr2_0, chan_id, dt0, dt1, tstep = bl[0].replace('.hdf5', '').split('_')\n",
    "    for fn in bl:\n",
    "        modestr1, modestr2, chan_id, dt0, dt1, tstep = fn.replace('.hdf5', '').split('_')\n",
    "        chan_ids.append(chan_id)\n",
    "        tsteps.append(tstep)\n",
    "        if modestr1_0 != modestr1:\n",
    "            print(f\"WARNING: {obs_md.obs_id} - Mixed HDF5 file types in {dirname}\")\n",
    "\n",
    "    # Get unique channels and sequence IDs (timesteps)\n",
    "    chans = sorted([int(c) for c in set(chan_ids)])\n",
    "    tsteps = sorted([int(t) for t in set(tsteps)])\n",
    "    \n",
    "    n_chan = len(chans)\n",
    "    n_step = len(tsteps)\n",
    "    \n",
    "    obs_md.n_channel     = n_chan\n",
    "    obs_md.n_timesteps   = n_step\n",
    "    obs_md.start_channel = np.min(chans)\n",
    "    obs_md.start_frequency = 0.78125 * obs_md.start_channel\n",
    "    obs_md.obs_bandwidth   = 0.78125 * obs_md.n_channel \n",
    "\n",
    "    # Figure out if sweep mode (n_step == 1) or fixed mode (n_chan == 1)\n",
    "    try:\n",
    "        assert n_chan == 1 or n_step == 1\n",
    "    except AssertionError:\n",
    "        raise RuntimeError(f\"Cannot determine mode! n_chan {n_chan} n_step {n_step}\")\n",
    "\n",
    "    obs_md.sub_mode = 'fixed' if n_chan == 1 else 'sweep'\n",
    "\n",
    "    # Find first file, extract metadata\n",
    "    first_file = f\"{modestr1}_{modestr2}_{chans[0]}_{dt0}_{dt1}_{tsteps[0]}.hdf5\"\n",
    "    with h5py.File(os.path.join(dirname, first_file), mode='r') as h:\n",
    "        t0 = Time(h['sample_timestamps']['data'][0, 0], format='unix')\n",
    "        obs_md.time_resolution = np.round( h['root'].attrs['tsamp'], 11)\n",
    "        obs_md.utc_start = t0.iso\n",
    "        obs_md.n_timesteps *= h['sample_timestamps']['data'].shape[0]\n",
    "\n",
    "    # Get last timestamp: in sweep mode, use last channel\n",
    "    try:\n",
    "        if obs_md.sub_mode == 'sweep':\n",
    "            last_file = f\"{modestr1}_{modestr2}_{chans[-1]}_{dt0}_{dt1}_{tsteps[0]}.hdf5\"\n",
    "            \n",
    "            with h5py.File(os.path.join(dirname, last_file), mode='r') as h:\n",
    "                t1 = Time(h['sample_timestamps']['data'][0, 0] + obs_md.time_resolution, format='unix')\n",
    "                \n",
    "        # Get last timestamp: in fixed mode, this will be last file in sequence\n",
    "        else:\n",
    "            if n_step > 1:\n",
    "                last_file = f\"{modestr1}_{modestr2}_{chans[-1]}_{dt0}_{dt1}_{tsteps[0]}.hdf5\"\n",
    "                \n",
    "                with h5py.File(os.path.join(dirname, last_file), mode='r') as h:\n",
    "                    t1 = Time(h['sample_timestamps']['data'][-1, -1] + obs_md.time_resolution, format='unix')\n",
    "            else:\n",
    "                with h5py.File(os.path.join(dirname, first_file), mode='r') as h:\n",
    "                    #print(list(h['root'].attrs.items()))\n",
    "                    rr = h['root'].attrs\n",
    "                    t1 = Time(rr['ts_start'] + rr['tsamp'], format='unix')\n",
    "        \n",
    "        obs_md.obs_duration = np.round((t1 - t0).sec, 11)\n",
    "\n",
    "    except FileNotFoundError:\n",
    "        print(f\"ERROR: {obs_md.obs_id} - file not found: {last_file}\")\n",
    "            \n",
    "    return obs_md\n",
    "\n",
    "\n",
    "def get_md_adc(filelist: list, obs_md: ObservationMetadata) -> ObservationMetadata:\n",
    "\n",
    "    with h5py.File(filelist[0], mode='r') as h:\n",
    "        \n",
    "        # ADC dataset is always 32768 in size. Here we check if data > 4096 are zeros,\n",
    "        # which indicates synchronous mode was used\n",
    "        dcount = np.sum(h['raw_']['data'][:][4096:])\n",
    "        obs_md.sub_mode = 'synchronous' if dcount == 0 else 'asynchronous'\n",
    "        obs_md.time_resolution = np.round(1 / 800e6, 11)\n",
    "        n_samp = 4096 if dcount == 0 else 32768\n",
    "        obs_md.obs_duration = n_samp * obs_md.time_resolution\n",
    "        obs_md.n_timesteps  = n_samp\n",
    "        \n",
    "    return obs_md\n",
    "\n",
    "def get_md_power_beam(filelist: list, obs_md: ObservationMetadata) -> ObservationMetadata:\n",
    "\n",
    "    # This will sort files in time order\n",
    "    # Files appear to follow stationbeam_integ_0_20240918_11242_0.hdf5 (X and SEQ zero)\n",
    "    filelist = sorted(filelist)\n",
    "    dirname = os.path.dirname(filelist[0])\n",
    "\n",
    "    \n",
    "    with h5py.File(filelist[0], mode='r') as h:\n",
    "        obs_md.time_resolution = h['root'].attrs['tsamp']\n",
    "        obs_md.n_timesteps  = h['root'].attrs['n_blocks']\n",
    "        obs_md.n_channel    = h['root'].attrs['n_chans']\n",
    "        \n",
    "        t0 = h['root'].attrs['ts_start']\n",
    "        t1 = h['root'].attrs['ts_end']\n",
    "        \n",
    "    if len(filelist) > 1:\n",
    "        with h5py.File(filelist[-1], mode='r') as h:\n",
    "            t1 = h['root'].attrs['ts_end']\n",
    "    obs_md.obs_duration = np.round(t1 - t0, 11)\n",
    "    obs_md.n_timesteps *= len(filelist)\n",
    "        \n",
    "    return obs_md"
   ]
  },
  {
   "cell_type": "code",
   "execution_count": 6,
   "id": "70ebff6d-d598-442c-b090-5201a8f54fc4",
   "metadata": {
    "execution": {
     "iopub.execute_input": "2024-11-08T08:02:49.419432Z",
     "iopub.status.busy": "2024-11-08T08:02:49.418592Z",
     "iopub.status.idle": "2024-11-08T08:02:49.540544Z",
     "shell.execute_reply": "2024-11-08T08:02:49.539700Z",
     "shell.execute_reply.started": "2024-11-08T08:02:49.419400Z"
    }
   },
   "outputs": [
    {
     "data": {
      "text/plain": [
       "ObservationMetadata(obs_id='eb-t0001-20240806-00003', station='', mode='', sub_mode='sweep', intent='', notes='', observer='', reference='', utc_start='2024-08-06 13:57:08.000', obs_duration=388.15165448189, loop_duration='', loop_rest_interval='', lst_start='', start_channel=64, n_channel=98, start_frequency=50.0, obs_bandwidth=76.5625, samples_per_frame='', time_resolution=1.98180864, n_timesteps=2, tracking='', source_name='', right_ascension='', declination='', altitude='', azimuth='', obs_date='', n_files=0, size_mb=0.0, qa='')"
      ]
     },
     "execution_count": 6,
     "metadata": {},
     "output_type": "execute_result"
    }
   ],
   "source": [
    "h5list = glob.glob('/home/jovyan/daq-data/eb-t0001-20240806-00003/ska-low-mccs/15/*.hdf5')\n",
    "get_md_corr(h5list, ObservationMetadata('eb-t0001-20240806-00003'))"
   ]
  },
  {
   "cell_type": "code",
   "execution_count": 217,
   "id": "b3112cfe-ace7-4a04-a5e6-eddc1cc213f7",
   "metadata": {
    "execution": {
     "iopub.execute_input": "2024-10-21T06:30:26.533980Z",
     "iopub.status.busy": "2024-10-21T06:30:26.533140Z",
     "iopub.status.idle": "2024-10-21T06:30:26.542505Z",
     "shell.execute_reply": "2024-10-21T06:30:26.541799Z",
     "shell.execute_reply.started": "2024-10-21T06:30:26.533949Z"
    }
   },
   "outputs": [
    {
     "data": {
      "text/plain": [
       "ObservationMetadata(obs_id='eb-t0001-20241009-00002', station='', mode='', sub_mode='synchronous', intent='', notes='', observer='', reference='', utc_start='', obs_duration=5.12e-06, loop_duration='', loop_rest_interval='', lst_start='', start_channel='', n_channel='', start_frequency='', obs_bandwidth='', samples_per_frame='', time_resolution=1.25e-09, n_timesteps=4096, tracking='', source_name='', right_ascension='', declination='', altitude='', azimuth='', obs_date='', n_files=0, size_mb=0.0, qa='')"
      ]
     },
     "execution_count": 217,
     "metadata": {},
     "output_type": "execute_result"
    }
   ],
   "source": [
    "fl = glob.glob(\"/home/jovyan/daq-data/eb-t0001-20241009-00002/ska-low-mccs/32/*.hdf5\")\n",
    "get_md_adc(fl, ObservationMetadata('eb-t0001-20241009-00002'))"
   ]
  },
  {
   "cell_type": "code",
   "execution_count": 313,
   "id": "4f189233-4480-463e-98cd-58eb876e4dec",
   "metadata": {
    "execution": {
     "iopub.execute_input": "2024-10-21T07:45:12.598829Z",
     "iopub.status.busy": "2024-10-21T07:45:12.598326Z",
     "iopub.status.idle": "2024-10-21T07:45:12.608123Z",
     "shell.execute_reply": "2024-10-21T07:45:12.607548Z",
     "shell.execute_reply.started": "2024-10-21T07:45:12.598806Z"
    }
   },
   "outputs": [
    {
     "data": {
      "text/plain": [
       "ObservationMetadata(obs_id='eb-t0001-20240918-00011', station='', mode='', sub_mode='', intent='', notes='', observer='', reference='', utc_start='', obs_duration=898.32112121582, loop_duration='', loop_rest_interval='', lst_start='', start_channel='', n_channel=384, start_frequency='', obs_bandwidth='', samples_per_frame='', time_resolution=0.28311552, n_timesteps=207, tracking='', source_name='', right_ascension='', declination='', altitude='', azimuth='', obs_date='', n_files=0, size_mb=0.0, qa='')"
      ]
     },
     "execution_count": 313,
     "metadata": {},
     "output_type": "execute_result"
    }
   ],
   "source": [
    "fl = glob.glob(\"/home/jovyan/daq-data/eb-t0001-20240918-00011/ska-low-mccs/30/*.hdf5\")\n",
    "get_md_power_beam(fl, ObservationMetadata('eb-t0001-20240918-00011'))"
   ]
  },
  {
   "cell_type": "code",
   "execution_count": 43,
   "id": "dd6fc8e5-96e2-42f4-a26f-d8fb72ba0e77",
   "metadata": {
    "execution": {
     "iopub.execute_input": "2024-10-21T08:00:31.472514Z",
     "iopub.status.busy": "2024-10-21T08:00:31.472089Z",
     "iopub.status.idle": "2024-10-21T08:00:31.482990Z",
     "shell.execute_reply": "2024-10-21T08:00:31.482352Z",
     "shell.execute_reply.started": "2024-10-21T08:00:31.472484Z"
    }
   },
   "outputs": [
    {
     "data": {
      "text/plain": [
       "[('channel_id', 0),\n",
       " ('data_mode', ''),\n",
       " ('data_type', 'uint16'),\n",
       " ('date_time', '20240807_60023'),\n",
       " ('n_antennas', 16),\n",
       " ('n_baselines', 0),\n",
       " ('n_beams', 1),\n",
       " ('n_blocks', 1290),\n",
       " ('n_chans', 512),\n",
       " ('n_pols', 2),\n",
       " ('n_samples', 1),\n",
       " ('n_stokes', 4),\n",
       " ('station_id', 0),\n",
       " ('tile_id', 1),\n",
       " ('timestamp', 1723048823.1982272),\n",
       " ('ts_end', array([0.])),\n",
       " ('ts_start', 1723048823.1982272),\n",
       " ('tsamp', 0),\n",
       " ('type', 2)]"
      ]
     },
     "execution_count": 43,
     "metadata": {},
     "output_type": "execute_result"
    }
   ],
   "source": [
    "fl = glob.glob(\"/home/jovyan/daq-data/eb-t0001-20240807-00003/ska-low-mccs/3/channel_integ_*.hdf5\")\n",
    "h = h5py.File(fl[0], 'r')\n",
    "list(h['root'].attrs.items())"
   ]
  },
  {
   "cell_type": "code",
   "execution_count": 29,
   "id": "b077a231-c782-4474-8393-6677315c3fb9",
   "metadata": {
    "execution": {
     "iopub.execute_input": "2024-11-08T08:13:51.696176Z",
     "iopub.status.busy": "2024-11-08T08:13:51.695726Z",
     "iopub.status.idle": "2024-11-08T08:14:09.723833Z",
     "shell.execute_reply": "2024-11-08T08:14:09.722765Z",
     "shell.execute_reply.started": "2024-11-08T08:13:51.696153Z"
    }
   },
   "outputs": [
    {
     "name": "stderr",
     "output_type": "stream",
     "text": [
      "  7%|▋         | 54/742 [00:00<00:02, 263.29it/s]"
     ]
    },
    {
     "name": "stdout",
     "output_type": "stream",
     "text": [
      "WARNING: eb-t0001-20240807-00002 - multiple scan directories\n"
     ]
    },
    {
     "name": "stderr",
     "output_type": "stream",
     "text": [
      " 45%|████▍     | 331/742 [00:01<00:01, 277.14it/s]"
     ]
    },
    {
     "name": "stdout",
     "output_type": "stream",
     "text": [
      "WARNING: eb-t0001-20240911-00011 - Mixed HDF5 file types in /home/jovyan/daq-data/eb-t0001-20240911-00011/ska-low-mccs/11\n",
      "ERROR: eb-t0001-20240911-00011 - file not found: stationbeam_integ_249_20240911_68842_0.hdf5\n"
     ]
    },
    {
     "name": "stderr",
     "output_type": "stream",
     "text": [
      " 89%|████████▉ | 659/742 [00:03<00:00, 141.50it/s]"
     ]
    },
    {
     "name": "stdout",
     "output_type": "stream",
     "text": [
      "ERROR: OSError: eb-t0001-20241101-00005 /home/jovyan/daq-data/eb-t0001-20241101-00005/ska-low-mccs/71/correlation_burst_100_20241101_14336_0.hdf5\n"
     ]
    },
    {
     "name": "stderr",
     "output_type": "stream",
     "text": [
      "100%|██████████| 742/742 [00:17<00:00, 41.32it/s] \n"
     ]
    }
   ],
   "source": [
    "obs_table = []\n",
    "for obs in tqdm.tqdm(obslist):\n",
    "    subdirlist = os.listdir(f\"{obs}/ska-low-mccs\")\n",
    "    n_subdir = len(subdirlist)\n",
    "    obs_id = os.path.basename(obs)\n",
    "    \n",
    "    \n",
    "    if n_subdir >= 1:\n",
    "        obs_md = ObservationMetadata(obs_id)\n",
    "        if n_subdir >= 2:\n",
    "            print(f\"WARNING: {obs_id} - multiple scan directories\") \n",
    "        for subdir in subdirlist:\n",
    "            obspath = f\"{obs}/ska-low-mccs/{subdir}\"\n",
    "            h5list = sorted(glob.glob(f\"{obspath}/*.hdf5\"))\n",
    "            data_size_MB = 0\n",
    "                \n",
    "            if len(h5list) > 0:\n",
    "                # Compute data volume\n",
    "                for h5 in h5list:\n",
    "                    data_size_MB += os.path.getsize(h5) / 1e6\n",
    "                obs_md.size_mb = np.round(data_size_MB, 2)\n",
    "                obs_md.n_files = len(h5list)\n",
    "                \n",
    "                # Get metadata from HDF5 files\n",
    "                with h5py.File(h5list[0], 'r') as fh:\n",
    "                    t = Time(fh['root'].attrs['ts_start'], format='unix', location=eloc)\n",
    "                    obs_md.utc_start = t.iso\n",
    "                    #dstr = t.strftime(\"%Y-%m-%d\")\n",
    "                    #ut = t.unix\n",
    "                    obs_md.lst_start = np.round(t.sidereal_time('apparent').value, 3)\n",
    "                    \n",
    "                    if fh['root'].attrs['station_id'] != 0:\n",
    "                        obs_md.station = corr_md['station_id']\n",
    "\n",
    "                # Get metadata from YAML\n",
    "                yaml_path = f\"{obspath}/obs_metadata.yaml\"\n",
    "                if os.path.exists(yaml_path):\n",
    "                    with open(yaml_path, 'r') as fh:\n",
    "                        log = yaml.safe_load(fh)\n",
    "                        obs_md.station         = log.get('station', '')\n",
    "                        obs_md.intent          = log.get('intent', '')\n",
    "                        obs_md.observer        = log.get('observer', '')\n",
    "                        obs_md.reference       = log.get('reference', '')\n",
    "                        obs_md.notes           = log.get('notes', '')\n",
    "                        obs_md.qa              = log.get('qa', '')\n",
    "                        obs_md.tracking        = log.get('tracking', '')\n",
    "                        obs_md.source_name     = log.get('source_name', '')\n",
    "                        obs_md.right_ascension = log.get('ra', '')\n",
    "                        obs_md.declination     = log.get('dec', '')\n",
    "                        obs_md.altitude        = log.get('alt', '')\n",
    "                        obs_md.azimuth         = log.get('az', '')\n",
    "                        \n",
    "                # Get mode and submode from HDF5 filenam\n",
    "                obstype = \"_\".join(os.path.basename(h5list[0]).split('_')[:2])\n",
    "                mode, sub_mode = obs_types[obstype]\n",
    "\n",
    "                obs_md.mode = mode\n",
    "                obs_md.sub_mode = sub_mode\n",
    "\n",
    "                try:\n",
    "                    if mode == 'correlator':\n",
    "                        obs_md = get_md_corr(h5list, obs_md)\n",
    "                    elif mode == 'adc-samples':\n",
    "                        obs_md = get_md_adc(h5list, obs_md)\n",
    "                    elif mode == 'beamformer' and sub_mode == 'power':\n",
    "                        obs_md = get_md_power_beam(h5list, obs_md)\n",
    "                    obs_table.append(obs_md)\n",
    "                except OSError:\n",
    "                    print(f\"ERROR: OSError: {obs_id} {h5list[0]}\")\n",
    "\n",
    "df = pd.DataFrame(obs_table)\n",
    "\n",
    "df.to_csv('2024-11-08-log.csv', index=False)"
   ]
  },
  {
   "cell_type": "code",
   "execution_count": 7,
   "id": "50455365-1c09-42e7-be93-f3cece78597d",
   "metadata": {
    "execution": {
     "iopub.execute_input": "2024-10-16T01:19:52.106938Z",
     "iopub.status.busy": "2024-10-16T01:19:52.106246Z",
     "iopub.status.idle": "2024-10-16T01:19:52.112259Z",
     "shell.execute_reply": "2024-10-16T01:19:52.111619Z",
     "shell.execute_reply.started": "2024-10-16T01:19:52.106903Z"
    }
   },
   "outputs": [],
   "source": [
    "dsel = df[df['obs_type'].str.contains('correlation_burst')]\n",
    "dsel = dsel[dsel['n_files'] == 385]"
   ]
  }
 ],
 "metadata": {
  "kernelspec": {
   "display_name": "Python 3 (ipykernel)",
   "language": "python",
   "name": "python3"
  },
  "language_info": {
   "codemirror_mode": {
    "name": "ipython",
    "version": 3
   },
   "file_extension": ".py",
   "mimetype": "text/x-python",
   "name": "python",
   "nbconvert_exporter": "python",
   "pygments_lexer": "ipython3",
   "version": "3.11.9"
  }
 },
 "nbformat": 4,
 "nbformat_minor": 5
}
