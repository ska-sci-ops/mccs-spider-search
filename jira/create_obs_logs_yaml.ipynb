{
 "cells": [
  {
   "cell_type": "markdown",
   "id": "7e110599-5dac-412b-b369-3c378a2de27f",
   "metadata": {},
   "source": [
    "## Generate metadata files\n",
    "\n",
    "This notebook generates YAML metadata files (from data gleaned off Jira tickets) and saves them in their respective observation directories."
   ]
  },
  {
   "cell_type": "code",
   "execution_count": 4,
   "id": "6ce69eb6-89e3-4260-ba75-6a0327c14cd9",
   "metadata": {
    "execution": {
     "iopub.execute_input": "2024-11-08T08:01:22.375530Z",
     "iopub.status.busy": "2024-11-08T08:01:22.375108Z",
     "iopub.status.idle": "2024-11-08T08:01:22.559648Z",
     "shell.execute_reply": "2024-11-08T08:01:22.558820Z",
     "shell.execute_reply.started": "2024-11-08T08:01:22.375488Z"
    }
   },
   "outputs": [
    {
     "name": "stdout",
     "output_type": "stream",
     "text": [
      "Generating metadata: eb-t0001-20240926-00004\n",
      "Generating metadata: eb-t0001-20240927-00002\n",
      "Generating metadata: eb-t0001-20241001-00005\n",
      "Generating metadata: eb-t0001-20241004-00002\n",
      "Generating metadata: eb-t0001-20241017-00002\n",
      "Generating metadata: eb-t0001-20241017-00004\n",
      "Generating metadata: eb-t0001-20241017-00001\n",
      "Generating metadata: eb-t0001-20240927-00011\n",
      "Generating metadata: eb-t0001-20240928-00001\n",
      "Generating metadata: eb-t0001-20240926-00003\n",
      "Generating metadata: eb-t0001-20240927-00001\n",
      "Generating metadata: eb-t0001-20241001-00004\n",
      "Generating metadata: eb-t0001-20241002-00001\n",
      "Generating metadata: eb-t0001-20241003-00003\n",
      "Generating metadata: eb-t0001-20241004-00001\n",
      "Generating metadata: eb-t0001-20241009-00023\n",
      "Generating metadata: eb-t0001-20241015-00008\n",
      "Generating metadata: eb-t0001-20241016-00004\n",
      "Generating metadata: eb-t0001-20241101-00008\n",
      "Generating metadata: eb-t0001-20241101-00007\n",
      "Generating metadata: eb-t0001-20241101-00005\n",
      "Generating metadata: eb-t0001-20241021-00006\n",
      "Generating metadata: eb-t0001-20241021-00005\n"
     ]
    }
   ],
   "source": [
    "import yaml\n",
    "\n",
    "with open('jira-ticket-log-2024.11.08.yaml', 'r') as fh:\n",
    "    obs_logs = yaml.safe_load(fh)\n",
    "\n",
    "for eb_id, log in obs_logs.items():\n",
    "    print(f\"Generating metadata: {eb_id}\")\n",
    "    with open(f'{log[\"data_path\"]}/obs_metadata.yaml', 'w') as fh:\n",
    "        # Convert short ID to Jira ticket path\n",
    "        r = log['reference']\n",
    "        log['reference'] = f'https://jira.skatelescope.org/browse/{r}'\n",
    "        _ = log.pop('data_path')\n",
    "        yaml.dump(log, fh)"
   ]
  },
  {
   "cell_type": "code",
   "execution_count": 1,
   "id": "d4070a58-9b6f-4599-9343-29c6a027b6c4",
   "metadata": {
    "execution": {
     "iopub.execute_input": "2024-11-08T08:00:31.336742Z",
     "iopub.status.busy": "2024-11-08T08:00:31.336410Z",
     "iopub.status.idle": "2024-11-08T08:00:31.343978Z",
     "shell.execute_reply": "2024-11-08T08:00:31.343270Z",
     "shell.execute_reply.started": "2024-11-08T08:00:31.336717Z"
    }
   },
   "outputs": [],
   "source": [
    "a = {'a': 1, 'b': 2}"
   ]
  },
  {
   "cell_type": "code",
   "execution_count": 2,
   "id": "46efc630-b97b-4798-bb6f-19ebcdcb7727",
   "metadata": {
    "execution": {
     "iopub.execute_input": "2024-11-08T08:00:35.248376Z",
     "iopub.status.busy": "2024-11-08T08:00:35.247987Z",
     "iopub.status.idle": "2024-11-08T08:00:35.257661Z",
     "shell.execute_reply": "2024-11-08T08:00:35.256881Z",
     "shell.execute_reply.started": "2024-11-08T08:00:35.248346Z"
    }
   },
   "outputs": [
    {
     "data": {
      "text/plain": [
       "1"
      ]
     },
     "execution_count": 2,
     "metadata": {},
     "output_type": "execute_result"
    }
   ],
   "source": [
    "a.pop('a')"
   ]
  },
  {
   "cell_type": "code",
   "execution_count": 3,
   "id": "846afa18-01a2-4587-813e-98a155d0bb9f",
   "metadata": {
    "execution": {
     "iopub.execute_input": "2024-11-08T08:00:36.395133Z",
     "iopub.status.busy": "2024-11-08T08:00:36.394026Z",
     "iopub.status.idle": "2024-11-08T08:00:36.401494Z",
     "shell.execute_reply": "2024-11-08T08:00:36.400456Z",
     "shell.execute_reply.started": "2024-11-08T08:00:36.395082Z"
    }
   },
   "outputs": [
    {
     "data": {
      "text/plain": [
       "{'b': 2}"
      ]
     },
     "execution_count": 3,
     "metadata": {},
     "output_type": "execute_result"
    }
   ],
   "source": [
    "a"
   ]
  },
  {
   "cell_type": "code",
   "execution_count": null,
   "id": "33bc1490-5679-4ecc-af1a-3ce1846b5d23",
   "metadata": {},
   "outputs": [],
   "source": []
  }
 ],
 "metadata": {
  "kernelspec": {
   "display_name": "Python 3 (ipykernel)",
   "language": "python",
   "name": "python3"
  },
  "language_info": {
   "codemirror_mode": {
    "name": "ipython",
    "version": 3
   },
   "file_extension": ".py",
   "mimetype": "text/x-python",
   "name": "python",
   "nbconvert_exporter": "python",
   "pygments_lexer": "ipython3",
   "version": "3.11.9"
  }
 },
 "nbformat": 4,
 "nbformat_minor": 5
}
